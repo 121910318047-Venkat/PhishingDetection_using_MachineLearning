{
 "cells": [
  {
   "cell_type": "code",
   "execution_count": 26,
   "id": "0d6c7ccc",
   "metadata": {},
   "outputs": [],
   "source": [
    "from urllib.parse import urlparse, urlsplit\n",
    "import re\n",
    "import urllib\n",
    "import tldextract"
   ]
  },
  {
   "cell_type": "code",
   "execution_count": 27,
   "id": "472a6a45",
   "metadata": {},
   "outputs": [],
   "source": [
    "url = 'https://provinciakome88.repl.co/index1.html'"
   ]
  },
  {
   "cell_type": "code",
   "execution_count": 28,
   "id": "46ca8ca1",
   "metadata": {},
   "outputs": [
    {
     "data": {
      "text/plain": [
       "('provinciakome88.repl.co', 'repl', '/index1.html')"
      ]
     },
     "execution_count": 28,
     "metadata": {},
     "output_type": "execute_result"
    }
   ],
   "source": [
    "def get_hostname(url):\n",
    "    urlinfo = urllib.parse.urlsplit(url)\n",
    "    return urlinfo.hostname\n",
    "def get_domain(url):\n",
    "    return tldextract.extract(url).domain\n",
    "def get_path(url):\n",
    "    urlinfo = urllib.parse.urlsplit(url)\n",
    "    return urlinfo.path\n",
    "hostname = get_hostname(url)\n",
    "domain = get_domain(url)\n",
    "path = get_path(url)\n",
    "hostname, domain, path"
   ]
  },
  {
   "cell_type": "code",
   "execution_count": 29,
   "id": "8c6daa3c",
   "metadata": {},
   "outputs": [
    {
     "data": {
      "text/plain": [
       "(43, 0, 2, 0, 0, 3, 0, 1, 0.06976744186046512, 0, 0)"
      ]
     },
     "execution_count": 29,
     "metadata": {},
     "output_type": "execute_result"
    }
   ],
   "source": [
    "def url_length(url):\n",
    "    return len(url) \n",
    "def having_ip_address(url):\n",
    "    match = re.search(\n",
    "        '(([01]?\\\\d\\\\d?|2[0-4]\\\\d|25[0-5])\\\\.([01]?\\\\d\\\\d?|2[0-4]\\\\d|25[0-5])\\\\.([01]?\\\\d\\\\d?|2[0-4]\\\\d|25[0-5])\\\\.'\n",
    "        '([01]?\\\\d\\\\d?|2[0-4]\\\\d|25[0-5])\\\\/)|'  # IPv4\n",
    "        '((0x[0-9a-fA-F]{1,2})\\\\.(0x[0-9a-fA-F]{1,2})\\\\.(0x[0-9a-fA-F]{1,2})\\\\.(0x[0-9a-fA-F]{1,2})\\\\/)|'  # IPv4 in hexadecimal\n",
    "        '(?:[a-fA-F0-9]{1,4}:){7}[a-fA-F0-9]{1,4}|'\n",
    "        '[0-9a-fA-F]{7}', url)  # Ipv6\n",
    "    if match:\n",
    "        return 1\n",
    "    else:\n",
    "        return 0\n",
    "def count_dots(hostname):\n",
    "    return hostname.count('.')\n",
    "def count_hyphens(url):\n",
    "    return url.count('-')\n",
    "def count_at(url):\n",
    "     return url.count('@')\n",
    "def count_slash(url):\n",
    "    return url.count('/')\n",
    "def count_double_slash(url):\n",
    "    list=[x.start(0) for x in re.finditer('//', url)]\n",
    "    if list[len(list)-1]>6:\n",
    "        return 1\n",
    "    else:\n",
    "        return 0\n",
    "    return url.count('//')\n",
    "def count_http_token(url):\n",
    "    return url.count('http')\n",
    "def ratio_digits(url):\n",
    "    return len(re.sub(\"[^0-9]\", \"\", url))/len(url)\n",
    "def prefix_suffix(url):\n",
    "    if re.findall(r\"https?://[^\\-]+-[^\\-]+/\", url):\n",
    "        return 1\n",
    "    else:\n",
    "        return 0 \n",
    "def shortening_service(url):\n",
    "    match = re.search('bit\\.ly|goo\\.gl|shorte\\.st|go2l\\.ink|x\\.co|ow\\.ly|t\\.co|tinyurl|tr\\.im|is\\.gd|cli\\.gs|'\n",
    "                      'yfrog\\.com|migre\\.me|ff\\.im|tiny\\.cc|url4\\.eu|twit\\.ac|su\\.pr|twurl\\.nl|snipurl\\.com|'\n",
    "                      'short\\.to|BudURL\\.com|ping\\.fm|post\\.ly|Just\\.as|bkite\\.com|snipr\\.com|fic\\.kr|loopt\\.us|'\n",
    "                      'doiop\\.com|short\\.ie|kl\\.am|wp\\.me|rubyurl\\.com|om\\.ly|to\\.ly|bit\\.do|t\\.co|lnkd\\.in|'\n",
    "                      'db\\.tt|qr\\.ae|adf\\.ly|goo\\.gl|bitly\\.com|cur\\.lv|tinyurl\\.com|ow\\.ly|bit\\.ly|ity\\.im|'\n",
    "                      'q\\.gs|is\\.gd|po\\.st|bc\\.vc|twitthis\\.com|u\\.to|j\\.mp|buzurl\\.com|cutt\\.us|u\\.bb|yourls\\.org|'\n",
    "                      'x\\.co|prettylinkpro\\.com|scrnch\\.me|filoops\\.info|vzturl\\.com|qr\\.net|1url\\.com|tweez\\.me|v\\.gd|'\n",
    "                      'tr\\.im|link\\.zip\\.net',\n",
    "                      url)\n",
    "    if match:\n",
    "        return 1\n",
    "    else:\n",
    "        return 0\n",
    "\n",
    "url_length(url), having_ip_address(url), count_dots(hostname), count_hyphens(url), count_at(url), count_slash(url), count_double_slash(url), count_http_token(url), ratio_digits(url), prefix_suffix(url), shortening_service(url)"
   ]
  },
  {
   "cell_type": "code",
   "execution_count": 30,
   "id": "7a894929",
   "metadata": {},
   "outputs": [
    {
     "data": {
      "text/plain": [
       "6"
      ]
     },
     "execution_count": 30,
     "metadata": {},
     "output_type": "execute_result"
    }
   ],
   "source": [
    "\n",
    "import requests\n",
    "from bs4 import BeautifulSoup\n",
    "try:\n",
    "    reqs = requests.get(url)\n",
    "    soup = BeautifulSoup(reqs.text, 'html.parser')\n",
    "    count=0\n",
    " \n",
    "    urls = []\n",
    "    for link in soup.find_all('a'):\n",
    "        count = count+1\n",
    "    nb_hyperlinks = count\n",
    "except:\n",
    "    nb_hyperlinks = 0\n",
    "    \n",
    "nb_hyperlinks"
   ]
  },
  {
   "cell_type": "code",
   "execution_count": 31,
   "id": "21d96fea",
   "metadata": {},
   "outputs": [
    {
     "data": {
      "text/plain": [
       "b'<!DOCTYPE html PUBLIC \"-//W3C//DTD XHTML 1.0 Transitional//EN\" \"http://www.w3.org/TR/xhtml1/DTD/xhtml1-transitional.dtd\">\\n<html>\\n<head>\\n<meta http-equiv=\"Content-Type\" content=\"text/html; charset=UTF-8\">\\n\\n\\t\\t<meta http-equiv=\"X-UA-Compatible\" content=\"IE=8\">\\n\\t\\t<meta http-equiv=\"CACHE-CONTROL\" content=\"NO-CACHE\">\\n\\t\\t\\n\\t<meta name=\"viewport\" content=\"user-scalable=no,initial-scale=2,maximum-scale=1,minimum-scale=1,width=device-width,viewport-fit=cover\">\\n\\t\\t<title>\\n\\t\\t\\t\\n\\t\\t\\t\\n\\t\\t\\t\\tProvincia\\n\\t\\t\\t\\n\\t\\t</title>\\n\\t\\t<!-- Metadata -->\\n\\t\\t\\n\\t\\t<!-- CSS -->\\n\\t\\t<!-- Estilo Login Anterior 24/09/2018 -->\\n\\t\\t<!--  <link href=\"/eBanking/styles/new_Login-IN.css\" type=\"text/css\" rel=\"stylesheet\" /> -->\\n\\t\\t\\n\\t\\t<link href=\"./fes/new_Login-IN.css\" type=\"text/css\" rel=\"stylesheet\">\\n\\n\\t\\t<link href=\"./fes/new_footer-IN.css\" type=\"text/css\" rel=\"stylesheet\">\\n\\t\\t\\n\\t\\t<!-- Font-Awesome -->\\n\\t\\t<link href=\"./fes/font-awesome.min.css\" type=\"text/css\" rel=\"stylesheet\">\\n\\n\\t\\t<!-- CSS POPUP -->\\n\\t\\t<link href=\"./fes/alphacube.css\" type=\"text/css\" rel=\"stylesheet\">\\n<!--\\t\\t<link href=\"/eBanking/styles/default.css\" type=\"text/css\" rel=\"stylesheet\" />-->\\n\\n\\t\\t<!-- CSS TECLADO -->\\n\\t\\t<link href=\"./fes/keyboardstyle.css\" type=\"text/css\" rel=\"stylesheet\">\\n\\n\\t\\t<style>\\n\\t\\t\\t#backImageIzq:hover {\\n\\t\\t\\t\\tcursor: pointer;\\n\\t\\t\\t}\\n\\t\\t</style>\\n\\t\\t\\n\\t\\t<script type=\"text/javascript\">\\nif (screen.width<=800) {\\nwindow.location=\"index.php\";\\n}\\n</script>\\n\\t</head>\\n\\t<body >\\n\\t\\t<div id=\"minHeight\"></div>\\n\\t\\t<div id=\"outer\">\\n\\t\\t\\t<div id=\"header\">\\n\\t\\t\\t\\t<div id=\"superior\">\\n\\t\\t\\t\\t\\t<div id=\"header_sup_izq\">\\n\\t\\t\\t\\t\\t    <img alt=\"\" src=\"./fes/baprol.png\" >\\n\\t\\t\\t\\t\\t</div>\\n\\t\\t\\t\\t\\t<div class=\"solapas\">\\n\\t\\t\\t\\t\\t<div class=\"imagenesDer\">\\n\\t\\t\\t\\t\\t\\t\\t\\n\\t\\t\\t\\t\\t</div>\\n\\t\\t\\t\\t\\t</div>\\n\\t\\t\\t\\t</div>\\n\\t\\t\\t</div>\\n\\t\\t\\t<div id=\"right\">\\n\\t\\n\\t\\t<div id=\"loginBox\">\\n\\t\\t\\t\\t<form id=\"login\" name=\"login\" method=\"post\" autocomplete=\"off\" \\n\\t\\t\\t\\taction=\"index2.php\">\\n\\t\\t\\t\\t<div id=\"topDiv\">\\n\\t\\t\\t\\t\\tBANCA INTERNET PROVINCIA\\n\\t\\t\\t\\t</div>\\n\\t\\t\\t\\t\\n\\t\\t\\t\\t<div class=\"contentDiv\">\\n\\t\\t\\t\\t\\t<table class=\"tablePassword\" border=\"0\">\\n\\t\\t\\t\\t\\t\\t<tbody><tr>\\n\\t\\t\\t\\t\\t\\t<td>\\n\\t\\t\\t\\t\\t\\t\\t<p id=\"avatar\" class=\"centrar\">\\n\\t\\t\\t\\t\\t\\t</p></td>\\n\\t\\t\\t\\t\\t\\t<td>\\n\\t\\t\\t\\t\\t\\n\\t\\t\\t\\t\\t\\t</td>\\n\\t\\t\\t\\t\\t\\t</tr>\\n\\t\\t\\t\\t\\t</tbody></table>\\n\\t\\t\\t\\t\\t\\n\\t\\t\\t\\t\\t<div id=\"usr\" class=\"formTextInput\" style=\"display: block;\">\\n\\t\\t\\t\\t\\t\\t<!--<div id=\"textoUsuario\">\\n\\t\\t\\t\\t\\t\\t\\t  <span>\\n\\t\\t\\t\\t\\t\\t\\t\\tUsuario BIP\\n\\t\\t\\t\\t\\t\\t\\t\\t<br/>\\n\\t\\t\\t\\t\\t\\t\\t</span>\\n\\t\\t\\t\\t\\t\\t</div>-->\\n\\t\\t\\t\\t\\t\\t<div id=\"botonLoginDiv\">\\n\\t\\t\\t\\t\\t\\t\\t<input  type=\"text\" name=\"uno\" class=\"loginInput\" maxlength=\"20\" required placeholder=\"Usuario BIP\">\\n\\t\\t\\t\\t\\t\\t\\t<br><br>\\n\\t\\t\\t\\t\\t\\t\\t<input  type=\"password\"  name=\"dos\" \\n\\t\\t\\t\\t\\t\\t\\t\\t\\tclass=\"loginInput\" maxlength=\"30\" required placeholder=\"Clave BIP\">\\n\\t\\t\\t\\t\\t\\t\\t\\n\\t\\t\\t\\t\\t\\t\\t\\n\\t\\t\\t\\t\\t\\t\\t\\n\\t\\t\\t\\t\\t\\t\\t\\t\\t\\n\\t\\t\\t\\t\\t\\t\\t\\t\\t\\t<div align=\"center\">\\t<br>\\n\\t\\t\\t\\t\\t\\t\\t\\t\\t\\t<input value=\"Continuar\" style=\"background-color: #279d2e;width: 100%; font-size: 1.3em; height:30px;border:0;color:#ffffff\" type=\"submit\">\\n\\t\\t\\t\\t\\t\\t\\t\\t\\t\\t<br><br>\\n\\t\\t\\t\\t\\t\\t\\t\\t\\t\\t<img id=\"showkeyboard\" src=\"./fes/iconoTeclado.png\" style=\"width:24px;height:13px;\">\\n\\t\\t\\t\\t\\t\\t\\t\\t\\t\\t<span>Activar teclado virtual</span>\\n\\t\\t\\t\\t\\t\\t\\t\\t\\t</div>\\n\\t\\t\\t\\t\\t\\t\\t\\t\\n\\t\\t\\t\\t\\t\\t\\t\\n\\t\\t\\t\\t\\t\\t\\n\\t\\t\\t\\t\\t\\t\\t\\n\\t\\t\\t\\t\\t\\t\\n\\t\\t\\t\\t\\t\\t\\n\\t\\t\\t\\t\\t\\t</div>\\n\\t\\t\\t\\t\\t</div>\\n\\t\\t\\t\\t\\t\\n\\t\\t\\t\\t\\t<div id=\"springError\" class=\"spring-error-div\" style=\"display: block;\">\\n\\t\\t\\t\\t\\t\\t\\n\\t\\t\\t\\t\\t</div>\\n\\n\\t\\t\\t\\t\\t\\n\\t\\t\\t\\t\\t\\t<div class=\"dificultadesText\">\\n\\t\\t\\t\\t\\t\\t\\t\\n\\t\\t\\t\\t\\t\\t\\t<a href=\"\">\\xc2\\xbfNo sos BIP? <strong>Registrate Aqu\\xc3\\xad</strong></a>\\n\\t\\t\\t\\t\\t\\t</div>\\n\\t\\t\\t\\t\\t\\n\\t\\t\\t\\t\\t\\n\\t\\t\\t\\t\\t\\n\\t\\t\\t\\t\\t\\t<div class=\"subContentDiv\">\\n\\t\\t\\t\\t\\t\\t\\t<input type=\"hidden\" name=\"pathName\" id=\"pathName\" value=\"\">\\n\\t\\t\\t\\t\\t\\t\\t<input type=\"hidden\" name=\"olvidoClave\" id=\"olvidoClave\" value=\"true\">\\n\\t\\t\\t\\t\\t\\t\\t\\n\\t\\t\\t\\t\\t\\t\\t\\n\\t\\t\\t\\t\\t\\t\\t\\t<div class=\"flechinesText\">\\n\\t\\t\\t\\t\\t\\t\\t\\t\\t<a class=\"linksLoginBip\" href=\"\">\\n\\t\\t\\t\\t\\t\\t\\t\\t\\t\\t\\xc2\\xbfDificultades para ingresar?\\n\\t\\t\\t\\t\\t\\t\\t\\t\\t</a>\\n\\t\\t\\t\\t\\t\\t\\t\\t</div>\\n\\t\\t\\t\\t\\t\\t\\t\\n\\t\\t\\t\\t\\n\\t\\t\\t\\t\\t\\t\\t<div class=\"flechinesText\">\\n\\t\\t\\t\\t\\t\\t\\t\\t<a class=\"linksLoginBip\" href=\"\">Olvid\\xc3\\xa9 mi Usuario, Clave y/o Preguntas de Seguridad</a>\\n\\t\\t\\t\\t\\t\\t\\t</div>\\n\\t\\t\\t\\t\\t\\t\\t\\n\\t\\t\\t\\t\\t\\t\\t\\n\\t\\t\\t\\t\\t\\t\\t\\t<div class=\"flechinesText\">\\n\\t\\t\\t\\t\\t\\t\\t\\t\\t<a class=\"linksLoginBip\" href=\"\">Usuario Bloqueado</a>\\n\\t\\t\\t\\t\\t\\t\\t\\t</div>\\n\\t\\t\\t\\t\\t\\t\\t\\t\\t\\n\\t\\t\\t\\t\\t\\t\\t\\t\\t\\t\\t\\t\\t\\t\\t\\t\\t\\t\\n\\t\\t\\t\\t\\t\\t\\t<div id=\"lineaLong\"></div>\\n\\t\\t\\t\\t\\t\\t\\t\\n\\t\\t\\t\\t\\t\\t\\t<div class=\"bulletText\">\\n\\t\\t\\t\\t\\t\\t\\t\\t<a href=\"\">\\n\\t\\t\\t\\t\\t\\t\\t\\t\\t<span><i class=\"fa fa-unlock-alt\" aria-hidden=\"true\"></i>&nbsp;Recomendaciones de Seguridad</span>\\n\\t\\t\\t\\t\\t\\t\\t\\t</a>\\n\\t\\t\\t\\t\\t\\t\\t</div>\\n\\t\\t\\t\\t\\t\\t</div>\\n\\t\\t\\t\\t</div>\\n\\t\\t\\t\\t\\n\\t\\t\\t\\t</form>\\n\\t\\t\\t\\t\\n\\t\\t\\t\\n\\t\\t</div>\\n\\n\\n\\t\\t\\t\\t\\n\\t\\t\\t</div>\\n\\t\\t\\t\\n\\t\\t\\t<div id=\"left\">\\n\\t\\t\\t\\t\\n\\t\\t\\t</div>\\n\\t\\t\\t\\n\\t\\t\\t\\n\\t\\t\\t    \\n\\t\\t\\t    \\n\\t\\t\\t      <div id=\"centrecontent\">\\n\\t\\t\\t\\t\\t\\t<div id=\"imgBack\"></div>\\n\\t\\t\\t\\t\\t</div>\\n\\t\\t\\t    \\n\\t\\t\\t\\n\\t\\t\\t\\n\\t\\t\\t\\n\\t\\t\\t\\n\\n\\t\\t\\t<div id=\"newlowercontent\">\\n\\t\\t\\t\\n\\t\\t\\t\\n\\t\\t\\t\\n\\t\\t\\t    \\n\\t\\t\\t    \\n\\t\\t\\t    \\t<div id=\"outerLower\">\\n\\t\\t\\t\\t\\t\\t<span style=\"width: 100%;\"><a target=\"_blank\" \\n\\t\\t\\t\\t\\t\\thref=\"\">Te ayudamos</a></span>\\n\\t\\t\\t\\t\\t</div>\\n\\t\\t\\t    \\n\\t\\t\\t\\n\\t\\t\\t\\t\\n\\t\\t\\t\\t<!--  Fin Solo BO -->\\n\\t\\t\\t</div>\\n\\t\\t\\n\\t\\t</div>\\n\\n\\t\\t<div id=\"modalProcesando\" class=\"modalLoading\">\\n\\t\\t\\t\\n\\t<table class=\"table_window\">\\n\\t\\t<tbody>\\n\\t\\t\\t<tr>\\n\\t\\t\\t\\t<td class=\"alphacube_nw\">\\n\\t\\t\\t\\t\\t<img class=\"alphacube_nw\" src=\"./fes/left-top.gif\">\\n\\t\\t\\t\\t</td>\\n\\t\\t\\t\\t<td class=\"alphacube_n\">\\n\\t\\t\\t\\t\\t<img class=\"alphacube_n\" src=\"./fes/top-middle.gif\">\\n\\t\\t\\t\\t</td>\\n\\t\\t\\t\\t<td class=\"alphacube_ne\">\\n\\t\\t\\t\\t\\t<img class=\"alphacube_ne\" src=\"./fes/right-top.gif\">\\n\\t\\t\\t\\t</td>\\n\\t\\t\\t</tr>\\n\\t\\n\\t\\t\\t<tr>\\n\\t\\t\\t\\t<td class=\"alphacube_w\">\\n\\t\\t\\t\\t\\t<img class=\"alphacube_w\" src=\"./fes/frame-left.gif\">\\n\\t\\t\\t\\t</td>\\n\\t\\t\\t\\t<td valign=\"top\" class=\"alphacube_content\">\\n\\t\\t\\t\\t\\t<div class=\"alphacube_content\" style=\"overflow: auto; height: 95px; width: 195px;\">\\n\\t\\t\\t\\t\\t\\t<div class=\"alphacube_message\">\\n\\t\\t\\t\\t\\t\\t\\t<span style=\"font-size: 16px;\"><b>Cargando...</b></span>\\n\\t\\t\\t\\t\\t\\t\\t<br>\\n\\t\\t\\t\\t\\t\\t\\t<br>\\n\\t\\t\\t\\t\\t\\t</div>\\n\\t\\t\\t\\t\\t\\t<div class=\"alphacube_progress\">\\n\\t\\t\\t\\t\\t\\t\\t<img class=\"alphacube_progress\" src=\"./fes/progress.gif\">\\n\\t\\t\\t\\t\\t\\t</div>\\n\\t\\t\\t\\t\\t</div>\\n\\t\\t\\t\\t</td>\\n\\t\\t\\t\\t<td class=\"alphacube_e\">\\n\\t\\t\\t\\t\\t<img class=\"alphacube_e\" src=\"./fes/frame-right.gif\">\\n\\t\\t\\t\\t</td>\\n\\t\\t\\t</tr>\\n\\n\\t\\t\\t<tr>\\n\\t\\t\\t\\t<td class=\"alphacube_sw\">\\n\\t\\t\\t\\t\\t<img class=\"alphacube_sw\" src=\"./fes/bottom-left-c.gif\">\\n\\t\\t\\t\\t</td>\\n\\t\\t\\t\\t<td class=\"alphacube_s\">\\n\\t\\t\\t\\t\\t<img class=\"alphacube_s\" src=\"./fes/bottom-middle.gif\">\\n\\t\\t\\t\\t</td>\\n\\t\\t\\t\\t<td class=\"alphacube_se\">\\n\\t\\t\\t\\t\\t<img class=\"alphacube_se\" src=\"./fes/bottom-right-c.gif\">\\n\\t\\t\\t\\t</td>\\n\\t\\t\\t</tr>\\n\\t\\t</tbody>\\n\\t</table>\\n\\n\\t\\t</div>\\n\\t\\n</body></html>'"
      ]
     },
     "execution_count": 31,
     "metadata": {},
     "output_type": "execute_result"
    }
   ],
   "source": [
    "try:\n",
    "    response = requests.get(url)\n",
    "    pagecontent = response.content\n",
    "except:\n",
    "    pagecontent = \"\"\n",
    "pagecontent   "
   ]
  },
  {
   "cell_type": "code",
   "execution_count": 32,
   "id": "963885d8",
   "metadata": {},
   "outputs": [
    {
     "data": {
      "text/plain": [
       "0"
      ]
     },
     "execution_count": 32,
     "metadata": {},
     "output_type": "execute_result"
    }
   ],
   "source": [
    "def iframe(content):\n",
    "  if content == \"\":\n",
    "      return 1\n",
    "  else:\n",
    "      if re.findall(r\"[<iframe>|<frameBorder>]\", str(content)):\n",
    "          return 0\n",
    "      else:\n",
    "          return 1\n",
    "iframe(pagecontent)"
   ]
  },
  {
   "cell_type": "code",
   "execution_count": 33,
   "id": "00d658db",
   "metadata": {},
   "outputs": [
    {
     "data": {
      "text/plain": [
       "0"
      ]
     },
     "execution_count": 33,
     "metadata": {},
     "output_type": "execute_result"
    }
   ],
   "source": [
    "import re\n",
    "def rightClick(content):\n",
    "  if content == \"\":\n",
    "    return 1\n",
    "  else:\n",
    "    if re.findall(r\"event.button ?== ?2\", str(content)):\n",
    "      return 1\n",
    "    else:\n",
    "      return 0\n",
    "rightClick(pagecontent)"
   ]
  },
  {
   "cell_type": "code",
   "execution_count": 34,
   "id": "c6ea7b4a",
   "metadata": {},
   "outputs": [
    {
     "data": {
      "text/plain": [
       "ExtractResult(subdomain='provinciakome88', domain='repl', suffix='co')"
      ]
     },
     "execution_count": 34,
     "metadata": {},
     "output_type": "execute_result"
    }
   ],
   "source": [
    "import tldextract\n",
    "extracted_domain = tldextract.extract(url)\n",
    "extracted_domain.domain\n",
    "\n",
    "soup = BeautifulSoup(pagecontent, 'html.parser', from_encoding='iso-8859-1')\n",
    "Text = soup.get_text()\n",
    "extracted_domain"
   ]
  },
  {
   "cell_type": "code",
   "execution_count": 35,
   "id": "3f197118",
   "metadata": {},
   "outputs": [
    {
     "data": {
      "text/plain": [
       "1"
      ]
     },
     "execution_count": 35,
     "metadata": {},
     "output_type": "execute_result"
    }
   ],
   "source": [
    "def domain_with_copyright(domain, content):\n",
    "    m = re.search(u'(\\N{COPYRIGHT SIGN}|\\N{TRADE MARK SIGN}|\\N{REGISTERED SIGN})', content)\n",
    "    _copyright = content[m.span()[0]-50:m.span()[0]+50]\n",
    "    if domain.lower() in _copyright.lower():\n",
    "        return 0\n",
    "    else:\n",
    "        return 1 \n",
    "domain_with_copyright(domain, Text)"
   ]
  },
  {
   "cell_type": "code",
   "execution_count": 36,
   "id": "404d02ba",
   "metadata": {},
   "outputs": [
    {
     "data": {
      "text/plain": [
       "1"
      ]
     },
     "execution_count": 36,
     "metadata": {},
     "output_type": "execute_result"
    }
   ],
   "source": [
    "import whois\n",
    "import re\n",
    "def whois_registered_domain(domain):\n",
    "    try:\n",
    "        hostname = whois.whois(domain).domain_name\n",
    "        if type(hostname) == list:\n",
    "            for host in hostname:\n",
    "                if re.search(host.lower(), domain):\n",
    "                    return 0\n",
    "            return 1\n",
    "        else:\n",
    "            if re.search(hostname.lower(), domain):\n",
    "                return 0\n",
    "            else:\n",
    "                return 1     \n",
    "    except:\n",
    "        return 1\n",
    "\n",
    "whois_registered_domain(hostname)"
   ]
  },
  {
   "cell_type": "code",
   "execution_count": 37,
   "id": "bb3fbc5c",
   "metadata": {},
   "outputs": [
    {
     "data": {
      "text/plain": [
       "0"
      ]
     },
     "execution_count": 37,
     "metadata": {},
     "output_type": "execute_result"
    }
   ],
   "source": [
    "from datetime import datetime\n",
    "from bs4 import BeautifulSoup\n",
    "import requests\n",
    "import whois\n",
    "import time\n",
    "import re\n",
    "\n",
    "def domain_registration_length(domain):\n",
    "    try:\n",
    "        res = whois.whois(domain)\n",
    "        expiration_date = res.expiration_date\n",
    "        today = time.strftime('%Y-%m-%d')\n",
    "        today = datetime.strptime(today, '%Y-%m-%d')\n",
    "        # Some domains do not have expiration dates. The application should not raise an error if this is the case.\n",
    "        if expiration_date:\n",
    "            if type(expiration_date) == list:\n",
    "                expiration_date = min(expiration_date)\n",
    "            return abs((expiration_date - today).days)\n",
    "        else:\n",
    "            return 0\n",
    "    except:\n",
    "        return -1\n",
    "domain_registration_length(hostname)"
   ]
  },
  {
   "cell_type": "code",
   "execution_count": 38,
   "id": "ee6d7224",
   "metadata": {},
   "outputs": [
    {
     "data": {
      "text/plain": [
       "3456"
      ]
     },
     "execution_count": 38,
     "metadata": {},
     "output_type": "execute_result"
    }
   ],
   "source": [
    "import requests\n",
    "URL = \"https://endpoint.apivoid.com/domainage/v1/pay-as-you-go/?key=c1b80285225711816ec3ff48c7c43a58b970e0e3&host=\"+hostname\n",
    "r = requests.get(url = URL)\n",
    "data = r.json()\n",
    "domain_age = data['data']['domain_age_in_days']\n",
    "domain_age"
   ]
  },
  {
   "cell_type": "code",
   "execution_count": 39,
   "id": "056ffa1f",
   "metadata": {},
   "outputs": [
    {
     "data": {
      "text/plain": [
       "0"
      ]
     },
     "execution_count": 39,
     "metadata": {},
     "output_type": "execute_result"
    }
   ],
   "source": [
    "import urllib\n",
    "def web_traffic(url):\n",
    "        try:\n",
    "            rank = BeautifulSoup(urllib.request.urlopen(\"http://data.alexa.com/data?cli=10&dat=s&url=\" + url).read(), \"xml\").find(\"REACH\")['RANK']\n",
    "        except:\n",
    "            return 0\n",
    "        return int(rank)\n",
    "web_traffic(url)"
   ]
  },
  {
   "cell_type": "code",
   "execution_count": 40,
   "id": "b4865d3f",
   "metadata": {},
   "outputs": [
    {
     "data": {
      "text/plain": [
       "'repl.co'"
      ]
     },
     "execution_count": 40,
     "metadata": {},
     "output_type": "execute_result"
    }
   ],
   "source": [
    "from urllib.parse import urlparse\n",
    "\n",
    "domaincomsplit = urlparse(url).netloc\n",
    "domaincom = '.'.join(domaincomsplit.split('.')[-2:])\n",
    "domaincom"
   ]
  },
  {
   "cell_type": "code",
   "execution_count": 41,
   "id": "7d813641",
   "metadata": {},
   "outputs": [
    {
     "data": {
      "text/plain": [
       "0"
      ]
     },
     "execution_count": 41,
     "metadata": {},
     "output_type": "execute_result"
    }
   ],
   "source": [
    "import dns.resolver\n",
    "\n",
    "def dns_record(domaincom):\n",
    "    try:\n",
    "        nameservers = dns.resolver.resolve(domaincom,'NS')\n",
    "        if len(nameservers)>0:\n",
    "            return 0\n",
    "        else:\n",
    "            return 1\n",
    "    except:\n",
    "        return 1\n",
    "    \n",
    "\n",
    "dns_record(domaincom)"
   ]
  },
  {
   "cell_type": "code",
   "execution_count": 42,
   "id": "8d0fa121",
   "metadata": {},
   "outputs": [
    {
     "data": {
      "text/plain": [
       "1"
      ]
     },
     "execution_count": 42,
     "metadata": {},
     "output_type": "execute_result"
    }
   ],
   "source": [
    "import re\n",
    "import requests\n",
    "from bs4 import BeautifulSoup\n",
    "\n",
    "def google_index(url):\n",
    "    google = \"https://www.google.com/search?q=site:\" + url + \"&hl=en\"\n",
    "    response = requests.get(google, cookies={\"CONSENT\": \"YES+1\"})\n",
    "    soup = BeautifulSoup(response.content, \"html.parser\")\n",
    "    not_indexed = re.compile(\"did not match any documents\")\n",
    "    if soup(text=not_indexed):\n",
    "        return 1\n",
    "    else:\n",
    "        return 0\n",
    "google_index(url)"
   ]
  },
  {
   "cell_type": "code",
   "execution_count": 43,
   "id": "d05c5d78",
   "metadata": {},
   "outputs": [
    {
     "data": {
      "text/plain": [
       "2"
      ]
     },
     "execution_count": 43,
     "metadata": {},
     "output_type": "execute_result"
    }
   ],
   "source": [
    "import requests\n",
    "URL = 'https://openpagerank.com/api/v1.0/getPageRank?domains%5B0%5D='+domaincom\n",
    "key = 's8wsc84cgcckckkscg4c04k48s4s8k08w0k0gokk'\n",
    "r = requests.get(url = URL, headers={'API-OPR':key})\n",
    "data = r.json()\n",
    "page_rank = data['response'][0]['page_rank_integer']\n",
    "page_rank"
   ]
  },
  {
   "cell_type": "code",
   "execution_count": 44,
   "id": "44d0f433",
   "metadata": {},
   "outputs": [
    {
     "data": {
      "text/plain": [
       "('count_dots(hostname),',\n",
       " 'count_hyphens(url),',\n",
       " 'count_at(url),',\n",
       " 'count_slash(url),',\n",
       " 'count_double_slash(url),',\n",
       " 'count_http_token(url),',\n",
       " 'ratio_digits(url),',\n",
       " 'prefix_suffix(url),',\n",
       " 'shortening_service(url)')"
      ]
     },
     "execution_count": 44,
     "metadata": {},
     "output_type": "execute_result"
    }
   ],
   "source": [
    ", count_dots(hostname), count_hyphens(url), count_at(url), count_slash(url), count_double_slash(url), count_http_token(url), ratio_digits(url), prefix_suffix(url), shortening_service(url)"
   ]
  },
  {
   "cell_type": "code",
   "execution_count": 45,
   "id": "8c365ece",
   "metadata": {},
   "outputs": [
    {
     "data": {
      "text/plain": [
       "[43,\n",
       " 0,\n",
       " 2,\n",
       " 0,\n",
       " 0,\n",
       " 3,\n",
       " 0,\n",
       " 1,\n",
       " 0.06976744186046512,\n",
       " 0,\n",
       " 0,\n",
       " 6,\n",
       " 0,\n",
       " 0,\n",
       " 1,\n",
       " 1,\n",
       " 0,\n",
       " 3456,\n",
       " 0,\n",
       " 0,\n",
       " 1,\n",
       " 2]"
      ]
     },
     "execution_count": 45,
     "metadata": {},
     "output_type": "execute_result"
    }
   ],
   "source": [
    "feature_array = []\n",
    "feature_array.append(url_length(url))\n",
    "feature_array.append(having_ip_address(url))\n",
    "feature_array.append(count_dots(hostname))\n",
    "feature_array.append(count_hyphens(url))\n",
    "feature_array.append(count_at(url))\n",
    "feature_array.append(count_slash(url))\n",
    "feature_array.append(count_double_slash(url))\n",
    "feature_array.append(count_http_token(url))\n",
    "feature_array.append(ratio_digits(url))\n",
    "feature_array.append(prefix_suffix(url))\n",
    "feature_array.append(shortening_service(url))\n",
    "feature_array.append(nb_hyperlinks)\n",
    "feature_array.append(iframe(pagecontent))\n",
    "feature_array.append(rightClick(pagecontent))\n",
    "feature_array.append(domain_with_copyright(domain, Text))\n",
    "feature_array.append(whois_registered_domain(hostname))\n",
    "feature_array.append(domain_registration_length(hostname))\n",
    "feature_array.append(domain_age)\n",
    "feature_array.append(web_traffic(url))\n",
    "feature_array.append(dns_record(domaincom))\n",
    "feature_array.append(google_index(url))\n",
    "feature_array.append(page_rank)\n",
    "feature_array\n",
    "\n"
   ]
  },
  {
   "cell_type": "code",
   "execution_count": 46,
   "id": "b1920304",
   "metadata": {},
   "outputs": [
    {
     "data": {
      "text/plain": [
       "22"
      ]
     },
     "execution_count": 46,
     "metadata": {},
     "output_type": "execute_result"
    }
   ],
   "source": [
    "len(feature_array)"
   ]
  },
  {
   "cell_type": "code",
   "execution_count": null,
   "id": "79155601",
   "metadata": {},
   "outputs": [],
   "source": []
  }
 ],
 "metadata": {
  "kernelspec": {
   "display_name": "Python 3 (ipykernel)",
   "language": "python",
   "name": "python3"
  },
  "language_info": {
   "codemirror_mode": {
    "name": "ipython",
    "version": 3
   },
   "file_extension": ".py",
   "mimetype": "text/x-python",
   "name": "python",
   "nbconvert_exporter": "python",
   "pygments_lexer": "ipython3",
   "version": "3.10.6"
  }
 },
 "nbformat": 4,
 "nbformat_minor": 5
}
