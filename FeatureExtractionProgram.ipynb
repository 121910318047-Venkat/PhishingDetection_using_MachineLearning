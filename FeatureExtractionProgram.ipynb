{
 "cells": [
  {
   "cell_type": "code",
   "execution_count": 390,
   "id": "4efe8663",
   "metadata": {},
   "outputs": [],
   "source": [
    "import re\n",
    "import time\n",
    "import datetime\n",
    "from datetime import datetime\n",
    "import urllib\n",
    "import tldextract\n",
    "import ipaddress\n",
    "import requests\n",
    "import bs4\n",
    "from bs4 import BeautifulSoup\n",
    "import dns.resolver\n",
    "import whois"
   ]
  },
  {
   "cell_type": "code",
   "execution_count": 391,
   "id": "e29f849c",
   "metadata": {},
   "outputs": [],
   "source": [
    "url = 'https://www.gitam.edu/'"
   ]
  },
  {
   "cell_type": "code",
   "execution_count": 392,
   "id": "974ee410",
   "metadata": {},
   "outputs": [
    {
     "data": {
      "text/plain": [
       "('www.gitam.edu', 'gitam.edu', 'gitam', '/')"
      ]
     },
     "execution_count": 392,
     "metadata": {},
     "output_type": "execute_result"
    }
   ],
   "source": [
    "urlinfo = urllib.parse.urlsplit(url)\n",
    "netloc = urlinfo.netloc\n",
    "domain = '.'.join(netloc.split('.')[-2:])\n",
    "domain_name = tldextract.extract(url).domain\n",
    "path = urlinfo.path\n",
    "\n",
    "netloc, domain, domain_name, path"
   ]
  },
  {
   "cell_type": "code",
   "execution_count": 393,
   "id": "cb3f24ba",
   "metadata": {},
   "outputs": [],
   "source": [
    "def urlLength(url):\n",
    "    return len(url)"
   ]
  },
  {
   "cell_type": "code",
   "execution_count": 394,
   "id": "32a45efa",
   "metadata": {},
   "outputs": [],
   "source": [
    "def havingIPAddress(domain):\n",
    "  try:\n",
    "    ipaddress.ip_address(domain)\n",
    "    ip = 1\n",
    "  except:\n",
    "    ip = 0\n",
    "  return ip"
   ]
  },
  {
   "cell_type": "code",
   "execution_count": 395,
   "id": "ebc8daf4",
   "metadata": {},
   "outputs": [],
   "source": [
    "def countDots(netloc):\n",
    "    return netloc.count('.')"
   ]
  },
  {
   "cell_type": "code",
   "execution_count": 396,
   "id": "1c4b4aa4",
   "metadata": {},
   "outputs": [],
   "source": [
    "def countHyphens(url):\n",
    "    return url.count('-')"
   ]
  },
  {
   "cell_type": "code",
   "execution_count": 397,
   "id": "83e829cd",
   "metadata": {},
   "outputs": [],
   "source": [
    "def countATR(url):\n",
    "     return url.count('@')"
   ]
  },
  {
   "cell_type": "code",
   "execution_count": 398,
   "id": "d107750c",
   "metadata": {},
   "outputs": [],
   "source": [
    "def countSlash(url):\n",
    "    return url.count('/')"
   ]
  },
  {
   "cell_type": "code",
   "execution_count": 399,
   "id": "6235b7ad",
   "metadata": {},
   "outputs": [],
   "source": [
    "def countDoubleSlash(url):\n",
    "    list=[x.start(0) for x in re.finditer('//', url)]\n",
    "    if list[len(list)-1]>6:\n",
    "        return 1\n",
    "    else:\n",
    "        return 0"
   ]
  },
  {
   "cell_type": "code",
   "execution_count": 400,
   "id": "32da0445",
   "metadata": {},
   "outputs": [],
   "source": [
    "def countHTTP(url):\n",
    "    return url.count('http')"
   ]
  },
  {
   "cell_type": "code",
   "execution_count": 401,
   "id": "65b2185f",
   "metadata": {},
   "outputs": [],
   "source": [
    "def ratioOfDigits(url):\n",
    "    return len(re.sub(\"[^0-9]\", \"\", url))/len(url)"
   ]
  },
  {
   "cell_type": "code",
   "execution_count": 402,
   "id": "918cf8b3",
   "metadata": {},
   "outputs": [],
   "source": [
    "def seperatedPrefixSuffix(url):\n",
    "    if re.findall(r\"https?://[^\\-]+-[^\\-]+/\", url):\n",
    "        return 1\n",
    "    else:\n",
    "        return 0 "
   ]
  },
  {
   "cell_type": "code",
   "execution_count": 403,
   "id": "d399ab62",
   "metadata": {},
   "outputs": [],
   "source": [
    "def usingShorteningServices(url):\n",
    "    match = re.search('bit\\.ly|goo\\.gl|shorte\\.st|go2l\\.ink|x\\.co|ow\\.ly|t\\.co|tinyurl|tr\\.im|is\\.gd|cli\\.gs|'\n",
    "                      'yfrog\\.com|migre\\.me|ff\\.im|tiny\\.cc|url4\\.eu|twit\\.ac|su\\.pr|twurl\\.nl|snipurl\\.com|'\n",
    "                      'short\\.to|BudURL\\.com|ping\\.fm|post\\.ly|Just\\.as|bkite\\.com|snipr\\.com|fic\\.kr|loopt\\.us|'\n",
    "                      'doiop\\.com|short\\.ie|kl\\.am|wp\\.me|rubyurl\\.com|om\\.ly|to\\.ly|bit\\.do|t\\.co|lnkd\\.in|'\n",
    "                      'db\\.tt|qr\\.ae|adf\\.ly|goo\\.gl|bitly\\.com|cur\\.lv|tinyurl\\.com|ow\\.ly|bit\\.ly|ity\\.im|'\n",
    "                      'q\\.gs|is\\.gd|po\\.st|bc\\.vc|twitthis\\.com|u\\.to|j\\.mp|buzurl\\.com|cutt\\.us|u\\.bb|yourls\\.org|'\n",
    "                      'x\\.co|prettylinkpro\\.com|scrnch\\.me|filoops\\.info|vzturl\\.com|qr\\.net|1url\\.com|tweez\\.me|v\\.gd|'\n",
    "                      'tr\\.im|link\\.zip\\.net',\n",
    "                      url)\n",
    "    if match:\n",
    "        return 1\n",
    "    else:\n",
    "        return 0"
   ]
  },
  {
   "cell_type": "code",
   "execution_count": 404,
   "id": "7f38edd8",
   "metadata": {},
   "outputs": [],
   "source": [
    "try:\n",
    "    response = requests.get(url)\n",
    "    soup = BeautifulSoup(response.text, 'html.parser')\n",
    "    count=0\n",
    "    for i in soup.find_all('a'):\n",
    "        count = count+1\n",
    "    num_hyperlinks = count\n",
    "except:\n",
    "    num_hyperlinks = 0"
   ]
  },
  {
   "cell_type": "code",
   "execution_count": 405,
   "id": "e2485a0e",
   "metadata": {},
   "outputs": [],
   "source": [
    "#To get all the page HTML content\n",
    "try:\n",
    "    response = requests.get(url)\n",
    "    page_content = response.content\n",
    "except:\n",
    "    page_content = \"\""
   ]
  },
  {
   "cell_type": "code",
   "execution_count": 406,
   "id": "7e106d31",
   "metadata": {},
   "outputs": [],
   "source": [
    "#To get all the text content from the HTML\n",
    "soup = BeautifulSoup(page_content, 'html.parser', from_encoding='iso-8859-1')\n",
    "content_text = soup.get_text()"
   ]
  },
  {
   "cell_type": "code",
   "execution_count": 407,
   "id": "1604fcf8",
   "metadata": {},
   "outputs": [],
   "source": [
    "def usingIFrame(page_content):\n",
    "  if page_content == \"\":\n",
    "      return 1\n",
    "  else:\n",
    "      if re.findall(r\"[<iframe>|<frameBorder>]\", str(page_content)):\n",
    "          return 0\n",
    "      else:\n",
    "          return 1"
   ]
  },
  {
   "cell_type": "code",
   "execution_count": 408,
   "id": "da035689",
   "metadata": {},
   "outputs": [],
   "source": [
    "def disabledRightClick(page_content):\n",
    "  if page_content == \"\":\n",
    "    return 1\n",
    "  else:\n",
    "    if re.findall(r\"event.button ?== ?2\", str(page_content)):\n",
    "      return 1\n",
    "    else:\n",
    "      return 0"
   ]
  },
  {
   "cell_type": "code",
   "execution_count": 409,
   "id": "2c37074e",
   "metadata": {},
   "outputs": [],
   "source": [
    "def domainWithCopyright(domain_name, content_text):\n",
    "    try:\n",
    "        m = re.search(u'(\\N{COPYRIGHT SIGN}|\\N{TRADE MARK SIGN}|\\N{REGISTERED SIGN})', content_text)\n",
    "        _copyright = content_text[m.span()[0]-50:m.span()[0]+50]\n",
    "        if domain_name.lower() in _copyright.lower():\n",
    "            return 0\n",
    "        else:\n",
    "            return 1\n",
    "    except:\n",
    "        return 1"
   ]
  },
  {
   "cell_type": "code",
   "execution_count": 410,
   "id": "6bc845d4",
   "metadata": {},
   "outputs": [],
   "source": [
    "def registeredWHOIS(netloc):\n",
    "    try:\n",
    "        hostname = whois.whois(netloc).domain_name\n",
    "        if type(hostname) == list:\n",
    "            for host in hostname:\n",
    "                if re.search(host.lower(), netloc):\n",
    "                    return 0\n",
    "            return 1\n",
    "        else:\n",
    "            if re.search(hostname.lower(), netloc):\n",
    "                return 0\n",
    "            else:\n",
    "                return 1     \n",
    "    except:\n",
    "        return 1"
   ]
  },
  {
   "cell_type": "code",
   "execution_count": 411,
   "id": "6218ef22",
   "metadata": {},
   "outputs": [],
   "source": [
    "def domainRegisterationLength(netloc):\n",
    "    try:\n",
    "        response = whois.whois(netloc)\n",
    "        expiration_date = response.expiration_date\n",
    "        today = time.strftime('%Y-%m-%d')\n",
    "        today = datetime.strptime(today, '%Y-%m-%d')\n",
    "        if expiration_date:\n",
    "            if type(expiration_date) == list:\n",
    "                expiration_date = min(expiration_date)\n",
    "            return abs((expiration_date - today).days)\n",
    "        else:\n",
    "            return 0\n",
    "    except:\n",
    "        return -1"
   ]
  },
  {
   "cell_type": "code",
   "execution_count": 412,
   "id": "b9149b74",
   "metadata": {},
   "outputs": [],
   "source": [
    "domainageAPI = \"https://endpoint.apivoid.com/domainage/v1/pay-as-you-go/?key=c1b80285225711816ec3ff48c7c43a58b970e0e3&host=\"+hostname\n",
    "res = requests.get(url = domainageAPI)\n",
    "data = res.json()\n",
    "try:\n",
    "    domain_age = data['data']['domain_age_in_days']\n",
    "except:\n",
    "    domain_age = -1"
   ]
  },
  {
   "cell_type": "code",
   "execution_count": 413,
   "id": "390de3e1",
   "metadata": {},
   "outputs": [],
   "source": [
    "def webTraffic(url):\n",
    "        try:\n",
    "            rank = BeautifulSoup(urllib.request.urlopen(\"http://data.alexa.com/data?cli=10&dat=s&url=\" + url).read(), \"xml\").find(\"REACH\")['RANK']\n",
    "        except:\n",
    "            return 0\n",
    "        return int(rank)"
   ]
  },
  {
   "cell_type": "code",
   "execution_count": 414,
   "id": "edc526a3",
   "metadata": {},
   "outputs": [],
   "source": [
    "def havingDNSRecords(domain):\n",
    "    try:\n",
    "        nameservers = dns.resolver.resolve(domain,'NS')\n",
    "        if len(nameservers)>0:\n",
    "            return 0\n",
    "        else:\n",
    "            return 1\n",
    "    except:\n",
    "        return 1"
   ]
  },
  {
   "cell_type": "code",
   "execution_count": 415,
   "id": "7d682908",
   "metadata": {},
   "outputs": [],
   "source": [
    "def googleIndex(url):\n",
    "    google = \"https://www.google.com/search?q=site:\" + url + \"&hl=en\"\n",
    "    response = requests.get(google, cookies={\"CONSENT\": \"YES+1\"})\n",
    "    soup = BeautifulSoup(response.content, \"html.parser\")\n",
    "    not_indexed = re.compile(\"did not match any documents\")\n",
    "    if soup(text=not_indexed):\n",
    "        return 1\n",
    "    else:\n",
    "        return 0"
   ]
  },
  {
   "cell_type": "code",
   "execution_count": 416,
   "id": "7657b520",
   "metadata": {},
   "outputs": [],
   "source": [
    "pagerankAPI = 'https://openpagerank.com/api/v1.0/getPageRank?domains%5B0%5D='+domain\n",
    "key = 's8wsc84cgcckckkscg4c04k48s4s8k08w0k0gokk'\n",
    "res = requests.get(url = pagerankAPI, headers={'API-OPR':key})\n",
    "data = res.json()\n",
    "page_rank = data['response'][0]['page_rank_integer']"
   ]
  },
  {
   "cell_type": "code",
   "execution_count": 417,
   "id": "0157297f",
   "metadata": {},
   "outputs": [
    {
     "data": {
      "text/plain": [
       "[22, 0, 2, 0, 0, 3, 0, 1, 0.0, 0, 0, 282, 0, 0, 0, 0, 0, -1, 0, 0, 0, 5]"
      ]
     },
     "execution_count": 417,
     "metadata": {},
     "output_type": "execute_result"
    }
   ],
   "source": [
    "feature_array = []\n",
    "feature_array.append(urlLength(url))\n",
    "feature_array.append(havingIPAddress(domain))\n",
    "feature_array.append(countDots(netloc))\n",
    "feature_array.append(countHyphens(url))\n",
    "feature_array.append(countATR(url))\n",
    "feature_array.append(countSlash(url))\n",
    "feature_array.append(countDoubleSlash(url))\n",
    "feature_array.append(countHTTP(url))\n",
    "feature_array.append(ratioOfDigits(url))\n",
    "feature_array.append(seperatedPrefixSuffix(url))\n",
    "feature_array.append(usingShorteningServices(url))\n",
    "feature_array.append(num_hyperlinks)\n",
    "feature_array.append(usingIFrame(page_content))\n",
    "feature_array.append(disabledRightClick(page_content))\n",
    "feature_array.append(domainWithCopyright(domain_name, content_text))\n",
    "feature_array.append(registeredWHOIS(netloc))\n",
    "feature_array.append(domainRegisterationLength(netloc))\n",
    "feature_array.append(domain_age)\n",
    "feature_array.append(webTraffic(url))\n",
    "feature_array.append(havingDNSRecords(domain))\n",
    "feature_array.append(googleIndex(url))\n",
    "feature_array.append(page_rank)\n",
    "feature_array"
   ]
  }
 ],
 "metadata": {
  "kernelspec": {
   "display_name": "Python 3 (ipykernel)",
   "language": "python",
   "name": "python3"
  },
  "language_info": {
   "codemirror_mode": {
    "name": "ipython",
    "version": 3
   },
   "file_extension": ".py",
   "mimetype": "text/x-python",
   "name": "python",
   "nbconvert_exporter": "python",
   "pygments_lexer": "ipython3",
   "version": "3.10.6"
  }
 },
 "nbformat": 4,
 "nbformat_minor": 5
}
